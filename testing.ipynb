{
 "cells": [
  {
   "cell_type": "code",
   "execution_count": 1,
   "metadata": {},
   "outputs": [
    {
     "name": "stderr",
     "output_type": "stream",
     "text": [
      "c:\\Users\\cbg-rs\\Desktop\\IPT_S2T\\.conda\\Lib\\site-packages\\tqdm\\auto.py:21: TqdmWarning: IProgress not found. Please update jupyter and ipywidgets. See https://ipywidgets.readthedocs.io/en/stable/user_install.html\n",
      "  from .autonotebook import tqdm as notebook_tqdm\n"
     ]
    },
    {
     "data": {
      "text/plain": [
       "'im ersten schritt des prozesses wird das werkzeug in den dafür vorhergesehenen arbeitsplatz gelegt nach dem staaten der anlage wird der arbeitsplatz gereinigt und das nächste werkzeug vom anlagen ophoweter vorbereitet um den nächsten betsch zu verarbeiten'"
      ]
     },
     "execution_count": 1,
     "metadata": {},
     "output_type": "execute_result"
    }
   ],
   "source": [
    "import streamlit as st\n",
    "import whisper\n",
    "import tempfile\n",
    "from transformers import pipeline\n",
    "import requests\n",
    "import os\n",
    "from dotenv import load_dotenv\n",
    "\n",
    "API_TOKEN = os.getenv('wav2vec2_TOKEN')\n",
    "API_URL = \"https://api-inference.huggingface.co/models/facebook/wav2vec2-large-xlsr-53-german\"\n",
    "headers = {\"Authorization\": f\"Bearer {API_TOKEN}\"}\n",
    "\n",
    "audio_path = \"./audio/Richard.wav\"\n",
    "\n",
    "def query(filename):\n",
    "    with open(filename, \"rb\") as f:\n",
    "        data = f.read()\n",
    "    response = requests.post(API_URL, headers=headers, data=data)\n",
    "    return response.json()\n",
    "\n",
    "output = query(audio_path)\n",
    "output[\"text\"]"
   ]
  },
  {
   "cell_type": "code",
   "execution_count": 8,
   "metadata": {},
   "outputs": [
    {
     "data": {
      "text/plain": [
       "{'text': 'im ersten schritt des prozesses wird das werkzeug in den dafür vorhergesehenen arbeitsplatz gelegt nach dem starten der anlage wird der arbeitsplatz gereinigt und das nächste werkzeug vom anlagen operator vorbereitet um den nächsten batch zu verarbeiten'}"
      ]
     },
     "execution_count": 8,
     "metadata": {},
     "output_type": "execute_result"
    }
   ],
   "source": [
    "API_TOKEN = os.getenv('wav2vec2_TOKEN')\n",
    "API_URL = \"https://api-inference.huggingface.co/models/jonatasgrosman/wav2vec2-large-xlsr-53-german\"\n",
    "headers = {\"Authorization\": f\"Bearer {API_TOKEN}\"}\n",
    "\n",
    "audio_path = \"./audio/Richard.wav\"\n",
    "\n",
    "def query(filename):\n",
    "    with open(filename, \"rb\") as f:\n",
    "        data = f.read()\n",
    "    response = requests.post(API_URL, headers=headers, data=data)\n",
    "    return response.json()\n",
    "\n",
    "output = query(audio_path)\n",
    "output[\"text\"]"
   ]
  },
  {
   "cell_type": "code",
   "execution_count": 4,
   "metadata": {},
   "outputs": [
    {
     "data": {
      "text/plain": [
       "'Im ersten Schritt des Prozesses wird das Werkzeug in den dafür vorhergesehenen Arbeitsplatz gelegt. Nach dem Starten der Anlage wird der Arbeitsplatz gereinigt und das nächste Werkzeug vom Anlagenoperator vorbereitet, um den nächsten Batch zu verarbeiten.'"
      ]
     },
     "execution_count": 4,
     "metadata": {},
     "output_type": "execute_result"
    }
   ],
   "source": [
    "import assemblyai as aai\n",
    "\n",
    "# Replace with your API key\n",
    "aai.settings.api_key = \"3ea47c494d314b1bbe6ab71a71fb4670\"\n",
    "\n",
    "# URL of the file to transcribe\n",
    "FILE_URL = \"audio/Richard.wav\"\n",
    "\n",
    "# You can also transcribe a local file by passing in a file path\n",
    "# FILE_URL = './path/to/file.mp3'\n",
    "config = aai.TranscriptionConfig(language_code=\"de\")\n",
    "transcriber = aai.Transcriber(config=config)\n",
    "transcript = transcriber.transcribe(FILE_URL)\n",
    "transcript.text"
   ]
  },
  {
   "cell_type": "code",
   "execution_count": 13,
   "metadata": {},
   "outputs": [
    {
     "name": "stdout",
     "output_type": "stream",
     "text": [
      "['Nach', ' ', 'dem', ' ', 'Starten', ' ', 'der', ' ', 'Anlage', ' ', 'wird', ' ', 'der', ' ', 'platz', ' ', 'gereinigt', ' ', 'und', ' ', 'das', ' ', 'nächste', ' ', 'Werkzeug', ' ', 'vom', ' ', 'operator', ' ', 'vorbereitet,', ' ', 'um', ' ', 'den', ' ', 'nächsten', ' ', 'Batch', ' ', 'zu', ' ', 'verarbeiten.']\n"
     ]
    }
   ],
   "source": [
    "def compare_texts(original_text, generated_text):\n",
    "    original_words = original_text.split()\n",
    "    generated_words = generated_text.split()\n",
    "    \n",
    "    comparison_results = []\n",
    "    \n",
    "    for i in range(max(len(original_words), len(generated_words))):\n",
    "        if i > 0:\n",
    "            comparison_results.append(\" \")\n",
    "        if i < len(original_words) and i < len(generated_words):\n",
    "            if original_words[i].lower() != generated_words[i].lower():\n",
    "                comparison_results.append((generated_words[i], \"wrong\", \"#FFC7CE\"))\n",
    "            else:\n",
    "                comparison_results.append(original_words[i])\n",
    "        elif i >= len(original_words):\n",
    "            comparison_results.append((generated_words[i], \"wrong\", \"#FFC7CE\"))\n",
    "    \n",
    "    return comparison_results\n",
    "\n",
    "# Example usage\n",
    "original_text = \"Nach dem Starten der Anlage wird der Arbeitsplatz gereinigt und das nächste Werkzeug vom Anlagenoperator vorbereitet, um den nächsten Batch zu verarbeiten.\"\n",
    "generated_text = \"Nach dem Starten der Anlage wird der Arbeits platz gereinigt und das nächste Werkzeug vom Anlagen operator vorbereitet, um den nächsten Batch zu verarbeiten.\"\n",
    "\n",
    "# Call the function and print the result\n",
    "comparison_result = compare_texts(original_text, generated_text)\n",
    "print(comparison_result)"
   ]
  }
 ],
 "metadata": {
  "kernelspec": {
   "display_name": "Python 3",
   "language": "python",
   "name": "python3"
  },
  "language_info": {
   "codemirror_mode": {
    "name": "ipython",
    "version": 3
   },
   "file_extension": ".py",
   "mimetype": "text/x-python",
   "name": "python",
   "nbconvert_exporter": "python",
   "pygments_lexer": "ipython3",
   "version": "3.11.8"
  }
 },
 "nbformat": 4,
 "nbformat_minor": 2
}
